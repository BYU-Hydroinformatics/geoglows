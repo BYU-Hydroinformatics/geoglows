{
  "nbformat": 4,
  "nbformat_minor": 0,
  "metadata": {
    "colab": {
      "name": "geoglows tutorial - GEOGloWS ECMWF Streamflow",
      "provenance": [],
      "private_outputs": true,
      "collapsed_sections": [],
      "toc_visible": true
    },
    "kernelspec": {
      "name": "python3",
      "display_name": "Python 3"
    }
  },
  "cells": [
    {
      "cell_type": "markdown",
      "metadata": {
        "id": "gLu_P8v5M2kb",
        "colab_type": "text"
      },
      "source": [
        "# GEOGloWS ECMWF Streamflow\n",
        "You can interact with the streamflow model using the geoglows python package. This notebook will take you through some of the functions available. For more information, please refer to https://geoglows.readthedocs.io.\n",
        "\n",
        "Before starting or if you experience problems, find the menu on the top left of your webpage, near the Google Collaboratory or Jupyter Notebook logo.\n",
        "\n",
        "In Collaboratory\n",
        "1.   Click runtime -> Restart runtime\n",
        "2.   Click Edit -> clear all outputs\n",
        "\n",
        "In Jupyter Notebook:\n",
        "1.   Click Kernel -> Reset & Clear Output"
      ]
    },
    {
      "cell_type": "code",
      "metadata": {
        "colab_type": "code",
        "id": "uSd2bp8N4Vt-",
        "colab": {}
      },
      "source": [
        "# Start by installing the package and importing it to your code. Run this cell to do that.\n",
        "!pip install geoglows==0.18.3\n",
        "import geoglows\n",
        "from IPython.core.display import display, HTML"
      ],
      "execution_count": null,
      "outputs": []
    },
    {
      "cell_type": "markdown",
      "metadata": {
        "colab_type": "text",
        "id": "FAfqQDX14VuA"
      },
      "source": [
        "## Access Streamflow data\n"
      ]
    },
    {
      "cell_type": "code",
      "metadata": {
        "colab_type": "code",
        "id": "zwGEdm0X4VuA",
        "colab": {}
      },
      "source": [
        "# Go collect all the data \n",
        "reach_id = 7061884\n",
        "region = 'africa-geoglows'\n",
        "stats = geoglows.streamflow.forecast_stats(reach_id)\n",
        "ensembles = geoglows.streamflow.forecast_ensembles(reach_id)\n",
        "records = geoglows.streamflow.forecast_records(reach_id)\n",
        "# warnings = geoglows.streamflow.forecast_warnings()\n",
        "hist = geoglows.streamflow.historic_simulation(reach_id)\n",
        "rperiods = geoglows.streamflow.return_periods(reach_id)\n",
        "day_avg = geoglows.streamflow.daily_averages(reach_id)\n",
        "mon_avg = geoglows.streamflow.monthly_averages(reach_id)"
      ],
      "execution_count": null,
      "outputs": []
    },
    {
      "cell_type": "markdown",
      "metadata": {
        "colab_type": "text",
        "id": "Syd_HueA4VuC"
      },
      "source": [
        "## Visualizing data\n",
        "You just gathered forecasted and historical simulation streamflow data for the river you chose by latitude and longitude. Now what can we do with it? \n",
        "\n",
        "The geoglows package has some tools for showing all the data you can get from the GEOGloWS ECMWF Streamflow model. The easiest way to show this data is to plot it. Each of the following cells will turn the data we requested into a figure and then show it."
      ]
    },
    {
      "cell_type": "code",
      "metadata": {
        "id": "3am0DtCr_zFQ",
        "colab_type": "code",
        "colab": {}
      },
      "source": [
        "title = {'Reach ID': reach_id}"
      ],
      "execution_count": null,
      "outputs": []
    },
    {
      "cell_type": "code",
      "metadata": {
        "colab_type": "code",
        "id": "HyoI3reg4VuE",
        "colab": {}
      },
      "source": [
        "hydro_figure = geoglows.plots.hydroviewer(records, stats, ensembles, rperiods, titles=title)\n",
        "hydro_figure.show()"
      ],
      "execution_count": null,
      "outputs": []
    },
    {
      "cell_type": "code",
      "metadata": {
        "colab_type": "code",
        "id": "Lcs2HdCL4VuF",
        "colab": {}
      },
      "source": [
        "# Statistical summary of the forecasted flows\n",
        "forecast_figure = geoglows.plots.forecast_stats(stats, None, titles=title)\n",
        "forecast_figure.show()"
      ],
      "execution_count": null,
      "outputs": []
    },
    {
      "cell_type": "code",
      "metadata": {
        "colab_type": "code",
        "id": "Aj9rtmUf4VuH",
        "colab": {}
      },
      "source": [
        "# View the previously saved forecasts\n",
        "records_figure = geoglows.plots.forecast_records(records, rperiods, titles=title)\n",
        "records_figure.show()"
      ],
      "execution_count": null,
      "outputs": []
    },
    {
      "cell_type": "code",
      "metadata": {
        "scrolled": true,
        "colab_type": "code",
        "id": "HrE4htUw4VuI",
        "colab": {}
      },
      "source": [
        "# View each of the forecasts individually\n",
        "ensembles_figure = geoglows.plots.forecast_ensembles(ensembles, rperiods, titles=title)\n",
        "ensembles_figure.show()"
      ],
      "execution_count": null,
      "outputs": []
    },
    {
      "cell_type": "code",
      "metadata": {
        "colab_type": "code",
        "id": "WJlBhbA24VuK",
        "colab": {}
      },
      "source": [
        "# Historically simulated flow (ERA-5)\n",
        "historic_figure = geoglows.plots.historic_simulation(hist, rperiods, titles=title)\n",
        "historic_figure.show()"
      ],
      "execution_count": null,
      "outputs": []
    },
    {
      "cell_type": "code",
      "metadata": {
        "colab_type": "code",
        "id": "m_82tcZU4VuM",
        "colab": {}
      },
      "source": [
        "# Processing the historical data into a daily average flow\n",
        "day_figure = geoglows.plots.daily_averages(day_avg, titles=title)\n",
        "day_figure.show()"
      ],
      "execution_count": null,
      "outputs": []
    },
    {
      "cell_type": "code",
      "metadata": {
        "id": "2ty7bSg_LrtP",
        "colab_type": "code",
        "colab": {}
      },
      "source": [
        "# Processing the historical data into a monthly average flow\n",
        "mon_figure = geoglows.plots.monthly_averages(mon_avg, titles=title)\n",
        "mon_figure.show()"
      ],
      "execution_count": null,
      "outputs": []
    },
    {
      "cell_type": "code",
      "metadata": {
        "colab_type": "code",
        "id": "pq2vzug04VuP",
        "colab": {}
      },
      "source": [
        "# Flow Duration Curve (derived from the ERA-Interim data)\n",
        "flow_duration_figure = geoglows.plots.flow_duration_curve(hist, titles=title)\n",
        "flow_duration_figure.show()"
      ],
      "execution_count": null,
      "outputs": []
    },
    {
      "cell_type": "code",
      "metadata": {
        "colab_type": "code",
        "id": "N6-m_5w34VuR",
        "colab": {}
      },
      "source": [
        "# View the probabilities table\n",
        "prob_table = geoglows.plots.probabilities_table(stats, ensembles, rperiods)\n",
        "display(HTML(prob_table))"
      ],
      "execution_count": null,
      "outputs": []
    },
    {
      "cell_type": "code",
      "metadata": {
        "colab_type": "code",
        "id": "e49Lj4bA4VuT",
        "colab": {}
      },
      "source": [
        "rperiods_table = geoglows.plots.return_periods_table(rperiods)\n",
        "display(HTML(rperiods_table))"
      ],
      "execution_count": null,
      "outputs": []
    },
    {
      "cell_type": "code",
      "metadata": {
        "colab_type": "code",
        "id": "rrDME23X4VuC",
        "colab": {}
      },
      "source": [
        "# Show the ForecastWarnings\n",
        "warnings.head(15)"
      ],
      "execution_count": null,
      "outputs": []
    },
    {
      "cell_type": "markdown",
      "metadata": {
        "colab_type": "text",
        "id": "AK4ArWAo4VuU"
      },
      "source": [
        "## What's next?\n",
        "Go learn more about this tool at http://geoglows.readthedocs.io and more about GEOGloWS at https://www.geoglows.org.\n",
        "\n",
        "The GEOGloWS streamflow API and this python library were developed at Brigham Young University in the Civil and Environmental Engineering Department by Riley Hales, Rohit Khatar, Chris Edwards, Kyler Ashby, Gio Romero, and others. This project is an enhancement of the original work by Dr E. James Nelson and Dr Michael Suffront."
      ]
    }
  ]
}